{
 "cells": [
  {
   "cell_type": "code",
   "execution_count": 1,
   "metadata": {},
   "outputs": [],
   "source": [
    "import pandas as pd \n",
    "df=pd.read_pickle('./Purdue_ECE_Profs.pkl')"
   ]
  },
  {
   "cell_type": "code",
   "execution_count": 2,
   "metadata": {},
   "outputs": [
    {
     "data": {
      "text/html": [
       "<div>\n",
       "<style scoped>\n",
       "    .dataframe tbody tr th:only-of-type {\n",
       "        vertical-align: middle;\n",
       "    }\n",
       "\n",
       "    .dataframe tbody tr th {\n",
       "        vertical-align: top;\n",
       "    }\n",
       "\n",
       "    .dataframe thead th {\n",
       "        text-align: right;\n",
       "    }\n",
       "</style>\n",
       "<table border=\"1\" class=\"dataframe\">\n",
       "  <thead>\n",
       "    <tr style=\"text-align: right;\">\n",
       "      <th></th>\n",
       "      <th>Name</th>\n",
       "      <th>Email</th>\n",
       "      <th>Title</th>\n",
       "      <th>Research</th>\n",
       "      <th>Areas of Interest</th>\n",
       "      <th>flag</th>\n",
       "    </tr>\n",
       "  </thead>\n",
       "  <tbody>\n",
       "    <tr>\n",
       "      <th>1</th>\n",
       "      <td>Yaobin Chen</td>\n",
       "      <td>chen62@purdue.edu</td>\n",
       "      <td>Professor of Electrical and Computer Engineeri...</td>\n",
       "      <td>Intelligent transportation systems, automated ...</td>\n",
       "      <td>[Automatic Controls]</td>\n",
       "      <td>1</td>\n",
       "    </tr>\n",
       "    <tr>\n",
       "      <th>5</th>\n",
       "      <td>Husheng Li</td>\n",
       "      <td>husheng@purdue.edu</td>\n",
       "      <td>Professor of Aeronautics and Astronautics and ...</td>\n",
       "      <td>Wireless communications, statistical signal pr...</td>\n",
       "      <td>N/A</td>\n",
       "      <td>1</td>\n",
       "    </tr>\n",
       "    <tr>\n",
       "      <th>7</th>\n",
       "      <td>Yung-Hsiang Lu</td>\n",
       "      <td>yunglu@ecn.purdue.edu</td>\n",
       "      <td>Professor of Electrical and Computer Engineering</td>\n",
       "      <td>Mobile and cloud computing, energy-efficient c...</td>\n",
       "      <td>[Computer Engineering, VLSI and Circuit Design]</td>\n",
       "      <td>1</td>\n",
       "    </tr>\n",
       "    <tr>\n",
       "      <th>10</th>\n",
       "      <td>Philip E. Paré</td>\n",
       "      <td>philpare@purdue.edu</td>\n",
       "      <td>Rita Lane and Norma Fries Assistant Professor ...</td>\n",
       "      <td>Mathematical modeling of dynamic networked sys...</td>\n",
       "      <td>[Automatic Controls, Communications, Networkin...</td>\n",
       "      <td>1</td>\n",
       "    </tr>\n",
       "    <tr>\n",
       "      <th>11</th>\n",
       "      <td>Kaushik Roy</td>\n",
       "      <td>kaushik@ecn.purdue.edu</td>\n",
       "      <td>Edward G. Tiedemann Jr. Distinguished Professo...</td>\n",
       "      <td>AI algorithms and hardware, neuromorphic compu...</td>\n",
       "      <td>[Communications, Networking, Signal &amp; Image Pr...</td>\n",
       "      <td>1</td>\n",
       "    </tr>\n",
       "  </tbody>\n",
       "</table>\n",
       "</div>"
      ],
      "text/plain": [
       "              Name                   Email  \\\n",
       "1      Yaobin Chen       chen62@purdue.edu   \n",
       "5       Husheng Li      husheng@purdue.edu   \n",
       "7   Yung-Hsiang Lu   yunglu@ecn.purdue.edu   \n",
       "10  Philip E. Paré     philpare@purdue.edu   \n",
       "11     Kaushik Roy  kaushik@ecn.purdue.edu   \n",
       "\n",
       "                                                Title  \\\n",
       "1   Professor of Electrical and Computer Engineeri...   \n",
       "5   Professor of Aeronautics and Astronautics and ...   \n",
       "7    Professor of Electrical and Computer Engineering   \n",
       "10  Rita Lane and Norma Fries Assistant Professor ...   \n",
       "11  Edward G. Tiedemann Jr. Distinguished Professo...   \n",
       "\n",
       "                                             Research  \\\n",
       "1   Intelligent transportation systems, automated ...   \n",
       "5   Wireless communications, statistical signal pr...   \n",
       "7   Mobile and cloud computing, energy-efficient c...   \n",
       "10  Mathematical modeling of dynamic networked sys...   \n",
       "11  AI algorithms and hardware, neuromorphic compu...   \n",
       "\n",
       "                                    Areas of Interest  flag  \n",
       "1                                [Automatic Controls]     1  \n",
       "5                                                 N/A     1  \n",
       "7     [Computer Engineering, VLSI and Circuit Design]     1  \n",
       "10  [Automatic Controls, Communications, Networkin...     1  \n",
       "11  [Communications, Networking, Signal & Image Pr...     1  "
      ]
     },
     "execution_count": 2,
     "metadata": {},
     "output_type": "execute_result"
    }
   ],
   "source": [
    "l=[\n",
    "    ('mrb@ecn.purdue.edu',0),\n",
    "    ('chen62@purdue.edu',1),\n",
    "    ('amakur@purdue.edu',0),\n",
    "    ('mckinnjd@purdue.edu',0),\n",
    "    ('husheng@purdue.edu',1),\n",
    "    ('yunglu@ecn.purdue.edu',1),\n",
    "    ('sfrance1@purdue.edu',0),\n",
    "    ('ychu@purdue.edu',0),\n",
    "    ('elliottd@ecn.purdue.edu',0),\t\n",
    "    ('cyliu@purdue.edu',0),\n",
    "    ('kaushik@ecn.purdue.edu',1),\n",
    "    ('philpare@purdue.edu',1)\n",
    "]\n",
    "flag_dict = dict(l)\n",
    "df1=df[df['Email'].isin([i for i,j in l])].reset_index(drop=True)\n",
    "df1.drop(['Degrees','Profile URL'],axis=1,inplace=True)\n",
    "df1['flag'] = df1['Email'].map(flag_dict)\n",
    "df2=df1[df1['flag']==1]\n",
    "df2\n",
    "\n",
    "df3=df1[df1['flag']==0]\n",
    "df2"
   ]
  },
  {
   "cell_type": "code",
   "execution_count": 3,
   "metadata": {},
   "outputs": [
    {
     "name": "stdout",
     "output_type": "stream",
     "text": [
      "Yaobin Chen\n",
      "Intelligent transportation systems, automated vehicles, EV and HEV, intelligent controls and robotics -- ['Automatic Controls']\n",
      "=:==:==:==:==:==:==:==:==:==:==:==:==:==:==:==:==:==:==:==:==:==:==:==:==:==:==:==:==:==:==:==:==:==:==:==:==:==:==:==:==:==:==:==:==:==:==:==:==:==:==:==:==:==:==:==:==:==:==:==:==:==:==:==:==:==:==:==:==:==:==:==:==:==:==:==:==:==:==:==:==:==:==:==:==:==:==:==:==:==:==:==:==:==:==:==:==:==:==:==:==:==:==:==:==:==:==:==:==:==:==:==:==:==:==:==:==:==:==:==:==:==:==:==:==:==:==:==:==:==:==:==:==:==:==:==:==:==:==:==:==:==:==:==:==:==:==:==:==:==:==:==:==:==:==:==:==:==:==:==:==:==:==:==:==:==:==:==:==:==:==:==:==:==:==:==:==:==:==:==:==:==:==:==:==:==:==:==:==:==:==:==:==:==:==:==:==:==:==:==:==:==:==:==:==:==:==:==:==:==:==:==:==:==:==:==:==:==:==:==:==:==:==:==:==:==:==:==:==:==:==:==:==:==:==:==:==:==:==:==:==:==:==:==:==:==:==:==:==:==:==:==:==:==:==:==:==:==:==:==:==:==:==:==:==:==:==:==:==:==:==:==:==:==:==:==:==:==:==:==:==:==:==:==:==:==:==:==:==:==:==:==:==:==:==:==:==:==:==:==:=\n",
      "Husheng Li\n",
      "Wireless communications, statistical signal processing, cyber physical systems, autonomous and connected systems -- N/A\n",
      "=:==:==:==:==:==:==:==:==:==:==:==:==:==:==:==:==:==:==:==:==:==:==:==:==:==:==:==:==:==:==:==:==:==:==:==:==:==:==:==:==:==:==:==:==:==:==:==:==:==:==:==:==:==:==:==:==:==:==:==:==:==:==:==:==:==:==:==:==:==:==:==:==:==:==:==:==:==:==:==:==:==:==:==:==:==:==:==:==:==:==:==:==:==:==:==:==:==:==:==:==:==:==:==:==:==:==:==:==:==:==:==:==:==:==:==:==:==:==:==:==:==:==:==:==:==:==:==:==:==:==:==:==:==:==:==:==:==:==:==:==:==:==:==:==:==:==:==:==:==:==:==:==:==:==:==:==:==:==:==:==:==:==:==:==:==:==:==:==:==:==:==:==:==:==:==:==:==:==:==:==:==:==:==:==:==:==:==:==:==:==:==:==:==:==:==:==:==:==:==:==:==:==:==:==:==:==:==:==:==:==:==:==:==:==:==:==:==:==:==:==:==:==:==:==:==:==:==:==:==:==:==:==:==:==:==:==:==:==:==:==:==:==:==:==:==:==:==:==:==:==:==:==:==:==:==:==:==:==:==:==:==:==:==:==:==:==:==:==:==:==:==:==:==:==:==:==:==:==:==:==:==:==:==:==:==:==:==:==:==:==:==:==:==:==:==:==:==:==:==:=\n",
      "Yung-Hsiang Lu\n",
      "Mobile and cloud computing, energy-efficient computing, image and video processing -- ['Computer Engineering', 'VLSI and Circuit Design']\n",
      "=:==:==:==:==:==:==:==:==:==:==:==:==:==:==:==:==:==:==:==:==:==:==:==:==:==:==:==:==:==:==:==:==:==:==:==:==:==:==:==:==:==:==:==:==:==:==:==:==:==:==:==:==:==:==:==:==:==:==:==:==:==:==:==:==:==:==:==:==:==:==:==:==:==:==:==:==:==:==:==:==:==:==:==:==:==:==:==:==:==:==:==:==:==:==:==:==:==:==:==:==:==:==:==:==:==:==:==:==:==:==:==:==:==:==:==:==:==:==:==:==:==:==:==:==:==:==:==:==:==:==:==:==:==:==:==:==:==:==:==:==:==:==:==:==:==:==:==:==:==:==:==:==:==:==:==:==:==:==:==:==:==:==:==:==:==:==:==:==:==:==:==:==:==:==:==:==:==:==:==:==:==:==:==:==:==:==:==:==:==:==:==:==:==:==:==:==:==:==:==:==:==:==:==:==:==:==:==:==:==:==:==:==:==:==:==:==:==:==:==:==:==:==:==:==:==:==:==:==:==:==:==:==:==:==:==:==:==:==:==:==:==:==:==:==:==:==:==:==:==:==:==:==:==:==:==:==:==:==:==:==:==:==:==:==:==:==:==:==:==:==:==:==:==:==:==:==:==:==:==:==:==:==:==:==:==:==:==:==:==:==:==:==:==:==:==:==:==:==:==:=\n",
      "Philip E. Paré\n",
      "Mathematical modeling of dynamic networked systems, e.g. epidemiological, biological, economic systems, infrastructure networks, social networks, etc.; stability analysis, control, and identifiability of such systems; model reduction of dynamic systems and clustering; biological applications of control theory -- ['Automatic Controls', 'Communications, Networking, Signal & Image Processing']\n",
      "=:==:==:==:==:==:==:==:==:==:==:==:==:==:==:==:==:==:==:==:==:==:==:==:==:==:==:==:==:==:==:==:==:==:==:==:==:==:==:==:==:==:==:==:==:==:==:==:==:==:==:==:==:==:==:==:==:==:==:==:==:==:==:==:==:==:==:==:==:==:==:==:==:==:==:==:==:==:==:==:==:==:==:==:==:==:==:==:==:==:==:==:==:==:==:==:==:==:==:==:==:==:==:==:==:==:==:==:==:==:==:==:==:==:==:==:==:==:==:==:==:==:==:==:==:==:==:==:==:==:==:==:==:==:==:==:==:==:==:==:==:==:==:==:==:==:==:==:==:==:==:==:==:==:==:==:==:==:==:==:==:==:==:==:==:==:==:==:==:==:==:==:==:==:==:==:==:==:==:==:==:==:==:==:==:==:==:==:==:==:==:==:==:==:==:==:==:==:==:==:==:==:==:==:==:==:==:==:==:==:==:==:==:==:==:==:==:==:==:==:==:==:==:==:==:==:==:==:==:==:==:==:==:==:==:==:==:==:==:==:==:==:==:==:==:==:==:==:==:==:==:==:==:==:==:==:==:==:==:==:==:==:==:==:==:==:==:==:==:==:==:==:==:==:==:==:==:==:==:==:==:==:==:==:==:==:==:==:==:==:==:==:==:==:==:==:==:==:==:==:=\n",
      "Kaushik Roy\n",
      "AI algorithms and hardware, neuromorphic computing, low-power electronics, neuro-mimetic devices, design-technology/ system-technology co-design -- ['Communications, Networking, Signal & Image Processing', 'Computer Engineering', 'Microelectronics and Nanotechnology', 'VLSI and Circuit Design']\n",
      "=:==:==:==:==:==:==:==:==:==:==:==:==:==:==:==:==:==:==:==:==:==:==:==:==:==:==:==:==:==:==:==:==:==:==:==:==:==:==:==:==:==:==:==:==:==:==:==:==:==:==:==:==:==:==:==:==:==:==:==:==:==:==:==:==:==:==:==:==:==:==:==:==:==:==:==:==:==:==:==:==:==:==:==:==:==:==:==:==:==:==:==:==:==:==:==:==:==:==:==:==:==:==:==:==:==:==:==:==:==:==:==:==:==:==:==:==:==:==:==:==:==:==:==:==:==:==:==:==:==:==:==:==:==:==:==:==:==:==:==:==:==:==:==:==:==:==:==:==:==:==:==:==:==:==:==:==:==:==:==:==:==:==:==:==:==:==:==:==:==:==:==:==:==:==:==:==:==:==:==:==:==:==:==:==:==:==:==:==:==:==:==:==:==:==:==:==:==:==:==:==:==:==:==:==:==:==:==:==:==:==:==:==:==:==:==:==:==:==:==:==:==:==:==:==:==:==:==:==:==:==:==:==:==:==:==:==:==:==:==:==:==:==:==:==:==:==:==:==:==:==:==:==:==:==:==:==:==:==:==:==:==:==:==:==:==:==:==:==:==:==:==:==:==:==:==:==:==:==:==:==:==:==:==:==:==:==:==:==:==:==:==:==:==:==:==:==:==:==:==:=\n"
     ]
    }
   ],
   "source": [
    "# df[df['Name'].str.contains('Mark')]\n",
    "for i,row in df2.iterrows():\n",
    "    print(row['Name'])\n",
    "    print(row['Research'], '--', row['Areas of Interest'])\n",
    "    print('=:='*300)"
   ]
  },
  {
   "cell_type": "code",
   "execution_count": null,
   "metadata": {},
   "outputs": [],
   "source": [
    "interested_in=[\n",
    "    'Yung-Hsiang Lu',\n",
    "    'Kaushik Roy'\n",
    "]"
   ]
  }
 ],
 "metadata": {
  "kernelspec": {
   "display_name": "base",
   "language": "python",
   "name": "python3"
  },
  "language_info": {
   "codemirror_mode": {
    "name": "ipython",
    "version": 3
   },
   "file_extension": ".py",
   "mimetype": "text/x-python",
   "name": "python",
   "nbconvert_exporter": "python",
   "pygments_lexer": "ipython3",
   "version": "3.11.5"
  }
 },
 "nbformat": 4,
 "nbformat_minor": 2
}
